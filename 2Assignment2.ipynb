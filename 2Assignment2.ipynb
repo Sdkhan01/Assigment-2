{
 "cells": [
  {
   "cell_type": "raw",
   "id": "74b33b79-35c2-4fc5-836c-135b70cdd0bc",
   "metadata": {},
   "source": [
    "In Python, the def keyword is used to create a funcion"
   ]
  },
  {
   "cell_type": "code",
   "execution_count": 13,
   "id": "a2e87fb0-a1a0-4dee-a111-4019e1d3f48e",
   "metadata": {},
   "outputs": [
    {
     "name": "stdout",
     "output_type": "stream",
     "text": [
      "[1, 3, 5, 7, 9, 11, 13, 15, 17, 19, 21, 23, 25]\n"
     ]
    }
   ],
   "source": [
    "def get_odd_numbers():\n",
    "    odd_numbers = []\n",
    "    for num in range(1, 26,2):\n",
    "        odd_numbers.append(num)\n",
    "    print( odd_numbers)\n",
    "get_odd_numbers()"
   ]
  },
  {
   "cell_type": "markdown",
   "id": "762c9656-3751-4b01-9b0b-8bbd442a2d19",
   "metadata": {},
   "source": [
    "Q2-2. Why *args and **kwargs is used in some functions? Create a function each for *args and **kwargs\n",
    "to demonstrate their use\n"
   ]
  },
  {
   "cell_type": "raw",
   "id": "23374825-b403-4d5f-a303-8e28375b816f",
   "metadata": {},
   "source": [
    "*args and **kwargs are special syntax in Python that allow a function to accept a variable number of arguments.\n",
    "\n",
    "*args is used to pass a variable number of non-keyword arguments to a function. It allows you to pass any number of arguments to a function without having to specify them individually. *args is used when you want to pass an unknown number of arguments to a function."
   ]
  },
  {
   "cell_type": "code",
   "execution_count": 16,
   "id": "767e550b-f36f-449c-a1b2-fffb251d9d84",
   "metadata": {},
   "outputs": [
    {
     "name": "stdout",
     "output_type": "stream",
     "text": [
      "Data Science\n"
     ]
    }
   ],
   "source": [
    "def concatenate_strings(*args):\n",
    "    result = \"\"\n",
    "    for string in args:\n",
    "        result += string\n",
    "    return result\n",
    "result = concatenate_strings(\"Data\" \" \" \"Science\" )\n",
    "print(result)"
   ]
  },
  {
   "cell_type": "raw",
   "id": "fc61d287-9549-4b38-976e-7d289c1097e7",
   "metadata": {},
   "source": [
    "**kwargs is used to pass a variable number of keyword arguments to a function. It allows you to pass any number of keyword arguments to a function without having to specify them individually. **kwargs is used when you want to pass an unknown number of keyword arguments to a function.\n",
    "\n",
    "Here's an example function that uses **kwargs to print a dictionary of key-value pairs:"
   ]
  },
  {
   "cell_type": "code",
   "execution_count": 18,
   "id": "e56a11d0-5177-4ca6-aca2-7e2c8155945c",
   "metadata": {},
   "outputs": [
    {
     "name": "stdout",
     "output_type": "stream",
     "text": [
      "name Shadab\n",
      "age 23\n",
      "city Lucknow\n"
     ]
    }
   ],
   "source": [
    "def print_dict(**kwargs):\n",
    "    for key, value in kwargs.items():\n",
    "        print(key, value)\n",
    "print_dict(name=\"Shadab\", age=23, city=\"Lucknow\")"
   ]
  },
  {
   "cell_type": "markdown",
   "id": "85c68c91-f31d-4c53-9535-c381bc46a7c1",
   "metadata": {},
   "source": [
    "Q-What is an iterator in python? Name the method used to initialise the iterator object and the method used for iteration. Use these methods to print the first five elements of the given list [2, 4, 6, 8, 10, 12, 14, 16, 18, 20].\n",
    "\n"
   ]
  },
  {
   "cell_type": "raw",
   "id": "79910f57-c8ec-4a3e-93d1-e9ed1e31c2b0",
   "metadata": {},
   "source": [
    "An iterator in Python is an object that can be iterated (looped) upon. It maintains its internal state so that it remembers where it is during iteration. Iterators are used to iterate over a sequence of elements, such as a list or a tuple, and provide a mechanism for retrieving the next element in the sequence.\n",
    "\n",
    "In Python, the iter() method is used to initialize an iterator object, and the next() method is used to iterate over the elements of the sequence. "
   ]
  },
  {
   "cell_type": "code",
   "execution_count": 19,
   "id": "6478bae6-b8a5-41f2-9a81-a973868e3814",
   "metadata": {},
   "outputs": [
    {
     "name": "stdout",
     "output_type": "stream",
     "text": [
      "2\n",
      "4\n",
      "6\n",
      "8\n",
      "10\n"
     ]
    }
   ],
   "source": [
    "my_list = [2, 4, 6, 8, 10, 12, 14, 16, 18, 20]\n",
    "\n",
    "# Initialize an iterator object\n",
    "my_iter = iter(my_list)\n",
    "\n",
    "# Iterate over the elements using the next() method\n",
    "for i in range(5):\n",
    "    print(next(my_iter))"
   ]
  },
  {
   "cell_type": "markdown",
   "id": "5e2edb70-9761-4299-a843-5b839fb8a5da",
   "metadata": {},
   "source": [
    "q-What is a generator function in python? Why yield keyword is used? Give an example of a generator function."
   ]
  },
  {
   "cell_type": "raw",
   "id": "71b4f0b7-42de-4a2e-b08d-c2f243aaf9ca",
   "metadata": {},
   "source": [
    "A generator function in Python is a special type of function that can be used to create an iterator. It uses the yield keyword instead of return to return a generator object that can be iterated over.\n",
    "\n",
    "The yield keyword is used to return a value from the generator function and pause the execution of the function. The function can then be resumed from where it left off using the next() method."
   ]
  },
  {
   "cell_type": "code",
   "execution_count": 20,
   "id": "844f8de3-02ff-4b69-beb4-919291204e20",
   "metadata": {},
   "outputs": [
    {
     "name": "stdout",
     "output_type": "stream",
     "text": [
      "0\n",
      "1\n",
      "2\n",
      "3\n",
      "4\n"
     ]
    }
   ],
   "source": [
    "def my_generator():\n",
    "    for i in range(10):\n",
    "        yield i\n",
    "\n",
    "# Create a generator object\n",
    "my_gen = my_generator()\n",
    "\n",
    "# Iterate over the elements using the next() method\n",
    "for i in range(5):\n",
    "    print(next(my_gen))"
   ]
  },
  {
   "cell_type": "markdown",
   "id": "36c347db-440e-48d6-8a62-f100e5cf60d3",
   "metadata": {},
   "source": [
    "Q-Create a generator function for prime numbers less than 1000. Use the next() method to print the first 20 prime numbers."
   ]
  },
  {
   "cell_type": "code",
   "execution_count": 24,
   "id": "d1cf0b2b-90f3-4ede-ba89-a9dc75a4a465",
   "metadata": {},
   "outputs": [
    {
     "name": "stdout",
     "output_type": "stream",
     "text": [
      "2\n",
      "3\n",
      "5\n",
      "7\n",
      "11\n",
      "13\n",
      "17\n",
      "19\n",
      "23\n",
      "29\n",
      "31\n",
      "37\n",
      "41\n",
      "43\n",
      "47\n",
      "53\n",
      "59\n",
      "61\n",
      "67\n",
      "71\n"
     ]
    }
   ],
   "source": [
    "def generate_primes():\n",
    "    num = 2\n",
    "    while num < 1000:\n",
    "        is_prime = True\n",
    "        for i in range(2, int(num**0.5)+1):\n",
    "            if num % i == 0:\n",
    "                is_prime = False\n",
    "                break\n",
    "        if is_prime:\n",
    "            yield num\n",
    "        num += 1\n",
    "prime_generator = generate_primes()\n",
    "for i in range(20):\n",
    "    print(next(prime_generator))"
   ]
  },
  {
   "cell_type": "markdown",
   "id": "d71cb604-53e2-495a-87a0-e8efd737cc9b",
   "metadata": {},
   "source": [
    ". Q-Write a python program to print the first 10 Fibonacci numbers using a while loop"
   ]
  },
  {
   "cell_type": "code",
   "execution_count": 25,
   "id": "e5faa41d-dd98-4f7b-9a5d-7c82a5bd246c",
   "metadata": {},
   "outputs": [
    {
     "name": "stdout",
     "output_type": "stream",
     "text": [
      "Fibonacci sequence up to 10 :\n",
      "0 1 1 2 3 5 8 13 21 34 "
     ]
    }
   ],
   "source": [
    "def print_fibonacci(n):\n",
    "    # Initialize the first two Fibonacci numbers\n",
    "    a = 0\n",
    "    b = 1\n",
    "\n",
    "    # Check if n is less than or equal to 0\n",
    "    if n <= 0:\n",
    "        print(\"Invalid input! Please enter a positive integer.\")\n",
    "    # Check if n is equal to 1\n",
    "    elif n == 1:\n",
    "        print(\"Fibonacci sequence up to\", n, \":\")\n",
    "        print(a)\n",
    "    # Generate the Fibonacci sequence\n",
    "    else:\n",
    "        print(\"Fibonacci sequence up to\", n, \":\")\n",
    "        count = 0\n",
    "        while count < n:\n",
    "            print(a, end=' ')\n",
    "            # Update Fibonacci sequence\n",
    "            c = a + b\n",
    "            a = b\n",
    "            b = c\n",
    "            count += 1\n",
    "\n",
    "# Call the function and pass the value of n as 10\n",
    "print_fibonacci(10)"
   ]
  },
  {
   "cell_type": "markdown",
   "id": "15e8f42f-48a5-4508-897d-7592ac676cdf",
   "metadata": {},
   "source": [
    "Q- Write a List Comprehension to iterate through the given string: ‘pwskills’.\n",
    "\n",
    "Expected output: ['p', 'w', 's', 'k', 'i', 'l', 'l', 's'] "
   ]
  },
  {
   "cell_type": "code",
   "execution_count": 26,
   "id": "f06afefa-5570-4e7b-9c6d-b032c145b93e",
   "metadata": {},
   "outputs": [
    {
     "name": "stdout",
     "output_type": "stream",
     "text": [
      "['p', 'w', 's', 'k', 'i', 'l', 'l', 's']\n"
     ]
    }
   ],
   "source": [
    "string = \"pwskills\"\n",
    "output_list = [char for char in string]\n",
    "print(output_list)"
   ]
  },
  {
   "cell_type": "markdown",
   "id": "238863d5-eaae-43dc-b95b-18d420c4e707",
   "metadata": {},
   "source": [
    "Q-. Write a python program to check whether a given number is Palindrome or not using a while loop."
   ]
  },
  {
   "cell_type": "code",
   "execution_count": 29,
   "id": "6a7e68a2-a4d7-42c6-808a-1049db4703d3",
   "metadata": {},
   "outputs": [
    {
     "name": "stdin",
     "output_type": "stream",
     "text": [
      "Enter the number 122\n",
      "Enter the second number 125\n"
     ]
    },
    {
     "name": "stdout",
     "output_type": "stream",
     "text": [
      "122 is not a Palindrome\n",
      "125 is not a Palindrome\n"
     ]
    }
   ],
   "source": [
    "def is_palindrome(num):\n",
    "    # Convert number to string and initialize variables\n",
    "    str_num = str(num)\n",
    "    left = 0\n",
    "    right = len(str_num) - 1\n",
    "    \n",
    "    # Iterate through the string and check for palindrome\n",
    "    while left < right:\n",
    "        if str_num[left] != str_num[right]:\n",
    "            return False\n",
    "        left += 1\n",
    "        right -= 1\n",
    "    \n",
    "    # If the loop completes, then the number is a palindrome\n",
    "    return True\n",
    "\n",
    "# Test the function with some examples\n",
    "num1 = int(input(\"Enter the number\"))\n",
    "num2 = int(input(\"Enter the second number\"))\n",
    "\n",
    "if is_palindrome(num1):\n",
    "    print(num1, \"is a Palindrome\")\n",
    "else:\n",
    "    print(num1, \"is not a Palindrome\")\n",
    "\n",
    "if is_palindrome(num2):\n",
    "    print(num2, \"is a Palindrome\")\n",
    "else:\n",
    "    print(num2, \"is not a Palindrome\")"
   ]
  },
  {
   "cell_type": "markdown",
   "id": "f8f762a0-c030-4a2c-8f70-e6b70efc66ec",
   "metadata": {},
   "source": [
    "Q- Write a code to print odd numbers from 1 to 100 using list comprehension."
   ]
  },
  {
   "cell_type": "code",
   "execution_count": 31,
   "id": "20071eee-d465-4ca6-9306-06ecf580bcf8",
   "metadata": {},
   "outputs": [
    {
     "name": "stdout",
     "output_type": "stream",
     "text": [
      "[1, 3, 5, 7, 9, 11, 13, 15, 17, 19, 21, 23, 25, 27, 29, 31, 33, 35, 37, 39, 41, 43, 45, 47, 49, 51, 53, 55, 57, 59, 61, 63, 65, 67, 69, 71, 73, 75, 77, 79, 81, 83, 85, 87, 89, 91, 93, 95, 97, 99]\n"
     ]
    }
   ],
   "source": [
    "number = [i for i in range (1,101) if i%2 != 0]\n",
    "print(number)"
   ]
  },
  {
   "cell_type": "code",
   "execution_count": null,
   "id": "2b2caedf-2cf0-48db-8de3-22323b3ddea6",
   "metadata": {},
   "outputs": [],
   "source": []
  }
 ],
 "metadata": {
  "kernelspec": {
   "display_name": "Python 3 (ipykernel)",
   "language": "python",
   "name": "python3"
  },
  "language_info": {
   "codemirror_mode": {
    "name": "ipython",
    "version": 3
   },
   "file_extension": ".py",
   "mimetype": "text/x-python",
   "name": "python",
   "nbconvert_exporter": "python",
   "pygments_lexer": "ipython3",
   "version": "3.10.8"
  }
 },
 "nbformat": 4,
 "nbformat_minor": 5
}
